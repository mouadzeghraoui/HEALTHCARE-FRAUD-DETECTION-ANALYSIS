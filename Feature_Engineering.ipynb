{
 "cells": [
  {
   "cell_type": "markdown",
   "metadata": {},
   "source": [
    "# \n",
    "# Feature Engineering\n",
    "\n",
    "\n",
    "\n",
    "### Table of content\n",
    "- Admitted Date Mean\n",
    "- Deductible Amount Paid Average\n",
    "- Insurance Claim Amount Reimbursed Average\n",
    "- Number of Patients\n",
    "- Number of Providers\n",
    "- Number of country per provider\n",
    "- Number of claims\n",
    "- Average number of chronic conditions per provider\n",
    "- Average Age \n",
    "- Gender of Patients per Providers"
   ]
  },
  {
   "cell_type": "code",
   "execution_count": 27,
   "metadata": {},
   "outputs": [],
   "source": [
    "import pandas as pd\n",
    "from pandas_profiling import ProfileReport\n",
    "import numpy as np\n",
    "import matplotlib.pyplot as plt\n",
    "import plotly.express as px\n",
    "import seaborn as sns\n",
    "plt.rcParams['figure.figsize'] = (12,8)\n",
    "import warnings\n",
    "warnings.filterwarnings(\"ignore\")"
   ]
  },
  {
   "cell_type": "code",
   "execution_count": 2,
   "metadata": {},
   "outputs": [],
   "source": [
    "Beneficiary = pd.read_csv('Data/Train_Beneficiary.csv')\n",
    "Inpatient = pd.read_csv('Data/Train_Inpatient.csv')\n",
    "Outpatient = pd.read_csv('Data/Train_Outpatient.csv')\n",
    "Label = pd.read_csv('Data/Train_Label.csv')"
   ]
  },
  {
   "cell_type": "code",
   "execution_count": 3,
   "metadata": {},
   "outputs": [],
   "source": [
    "Inpatient['Patient_type'] = 'inpatient'\n",
    "Outpatient['Patient_type'] = 'outpatient'"
   ]
  },
  {
   "cell_type": "code",
   "execution_count": 4,
   "metadata": {},
   "outputs": [],
   "source": [
    "Patient = pd.concat([Inpatient, Outpatient], axis=0)"
   ]
  },
  {
   "cell_type": "code",
   "execution_count": 5,
   "metadata": {},
   "outputs": [],
   "source": [
    "fraud = pd.merge(Patient, Beneficiary, on='BeneID', how='left')\n",
    "fraud = pd.merge(fraud, Label, on='Provider', how='left')"
   ]
  },
  {
   "cell_type": "markdown",
   "metadata": {},
   "source": [
    "### Let's create the average of the \"admitted date \""
   ]
  },
  {
   "cell_type": "code",
   "execution_count": 6,
   "metadata": {},
   "outputs": [],
   "source": [
    "# Creating DaysAdmitted Feature by substracting claim start date from claim end date \n",
    "fraud['ClaimStartDt'] = pd.to_datetime(fraud['ClaimStartDt'])\n",
    "fraud['ClaimEndDt'] = pd.to_datetime(fraud['ClaimEndDt'])\n",
    "fraud['DaysAdmitted'] = fraud['ClaimEndDt'] - fraud['ClaimStartDt']"
   ]
  },
  {
   "cell_type": "code",
   "execution_count": 7,
   "metadata": {},
   "outputs": [],
   "source": [
    "fraud['DaysAdmitted'] = fraud['DaysAdmitted'].astype(str)\n",
    "fraud['DaysAdmitted'] = fraud['DaysAdmitted'].str.replace('days', ' ')\n",
    "fraud['DaysAdmitted'] = fraud['DaysAdmitted'].astype(int)\n",
    "fraud['DaysAdmitted'] = fraud['DaysAdmitted'] + 1"
   ]
  },
  {
   "cell_type": "code",
   "execution_count": 8,
   "metadata": {},
   "outputs": [],
   "source": [
    "DaysAdmitted_mean = pd.DataFrame(fraud.groupby('Provider')['DaysAdmitted'].mean()).reset_index()"
   ]
  },
  {
   "cell_type": "code",
   "execution_count": 9,
   "metadata": {},
   "outputs": [],
   "source": [
    "Label_Fraud_1 = Label.copy()\n",
    "Label_Fraud_2 = pd.merge(Label_Fraud_1, DaysAdmitted_mean, on='Provider')"
   ]
  },
  {
   "cell_type": "markdown",
   "metadata": {},
   "source": [
    "### DeductibleAmountPaid Mean"
   ]
  },
  {
   "cell_type": "code",
   "execution_count": 10,
   "metadata": {},
   "outputs": [],
   "source": [
    "DeductibleAmtPaid_mean = pd.DataFrame(fraud.groupby('Provider') \\\n",
    "                              ['DeductibleAmtPaid'].mean())\n",
    "Label_Fraud_2 = pd.merge(Label_Fraud_2, DeductibleAmtPaid_mean, on='Provider')"
   ]
  },
  {
   "cell_type": "markdown",
   "metadata": {},
   "source": [
    "### Insurance Claim Amount Reimbursed Mean"
   ]
  },
  {
   "cell_type": "code",
   "execution_count": 11,
   "metadata": {},
   "outputs": [],
   "source": [
    "InscClaimAmtReimbursed_mean = pd.DataFrame(fraud.groupby('Provider') \\\n",
    "                              ['InscClaimAmtReimbursed'].mean())\n",
    "Label_Fraud_2 = pd.merge(Label_Fraud_2, InscClaimAmtReimbursed_mean, on='Provider')"
   ]
  },
  {
   "cell_type": "markdown",
   "metadata": {},
   "source": [
    "### Add number of patient and Doctors"
   ]
  },
  {
   "cell_type": "code",
   "execution_count": 12,
   "metadata": {},
   "outputs": [],
   "source": [
    "doctors= fraud.groupby(['Provider', 'AttendingPhysician']) \\\n",
    "['AttendingPhysician'].count().reset_index(name='NumOfDoctors'). \\\n",
    "groupby('Provider')['NumOfDoctors'].count().reset_index()\n",
    "\n",
    "Label_Fraud_2 = pd.merge(Label_Fraud_2, doctors, on='Provider')\n"
   ]
  },
  {
   "cell_type": "code",
   "execution_count": 13,
   "metadata": {},
   "outputs": [],
   "source": [
    "patient= fraud.groupby(['Provider','BeneID'])['BeneID'].count(). \\\n",
    "reset_index(name='NumOfPatients').groupby('Provider')['NumOfPatients']. \\\n",
    "count().reset_index()\n",
    "\n",
    "Label_Fraud_2 = pd.merge(Label_Fraud_2, patient, on='Provider')\n"
   ]
  },
  {
   "cell_type": "markdown",
   "metadata": {},
   "source": [
    "### Number of claims"
   ]
  },
  {
   "cell_type": "code",
   "execution_count": 14,
   "metadata": {},
   "outputs": [],
   "source": [
    "claims= fraud.groupby(['Provider', 'ClaimID'])['ClaimID'].count().\\\n",
    "reset_index(name='NumOfClms').groupby('Provider')['NumOfClms'].count().reset_index()\n",
    "\n",
    "Label_Fraud_2 = pd.merge(Label_Fraud_2, claims, on='Provider')"
   ]
  },
  {
   "cell_type": "markdown",
   "metadata": {},
   "source": [
    "### Number of country per provider"
   ]
  },
  {
   "cell_type": "code",
   "execution_count": 15,
   "metadata": {},
   "outputs": [],
   "source": [
    "numCounties = fraud.groupby(['Provider', 'County'])['County'].count().reset_index(name='a'). \\\n",
    "groupby('Provider')['County'].count().reset_index(name='numCounties')\n",
    "Label_Fraud_2 = pd.merge(Label_Fraud_2, numCounties, on='Provider')"
   ]
  },
  {
   "cell_type": "markdown",
   "metadata": {},
   "source": [
    "### Add average number of chronic conditions per provider"
   ]
  },
  {
   "cell_type": "code",
   "execution_count": 16,
   "metadata": {},
   "outputs": [],
   "source": [
    "patientChronic_mean = fraud.filter(regex='Chronic').replace(to_replace=2, value=0).sum(axis=1).\\\n",
    "reset_index(name='NumChronicCond')\n",
    "chronic = pd.concat([patientChronic_mean, fraud[['Provider', 'ClaimID']]], axis=1)"
   ]
  },
  {
   "cell_type": "code",
   "execution_count": 17,
   "metadata": {},
   "outputs": [],
   "source": [
    "patientChronic_mean = chronic.groupby(['Provider', 'NumChronicCond'])['ClaimID'].count().reset_index(name='NumClaims').\\\n",
    "groupby('Provider').agg({'NumChronicCond':'mean', 'NumClaims':'mean'}).reset_index().\\\n",
    "rename(columns={'NumChronicCond':'AvgChronic', 'NumClaims':'AvgClaim'})\n",
    "\n",
    "\n",
    "Label_Fraud_2 = pd.merge(Label_Fraud_2, patientChronic_mean, on='Provider')"
   ]
  },
  {
   "cell_type": "markdown",
   "metadata": {},
   "source": [
    "### average Age "
   ]
  },
  {
   "cell_type": "code",
   "execution_count": 18,
   "metadata": {},
   "outputs": [],
   "source": [
    "fraud['ClaimStartDt2'] =  pd.to_datetime(fraud['ClaimStartDt'], format='%Y/%m/%d')\n",
    "fraud['DOB'] =  pd.to_datetime(fraud['DOB'], format='%Y/%m/%d')\n",
    "fraud['Age'] = fraud['ClaimStartDt'] - fraud['DOB']"
   ]
  },
  {
   "cell_type": "code",
   "execution_count": 19,
   "metadata": {},
   "outputs": [],
   "source": [
    "fraud['Age'] = (fraud['Age']/pd.Timedelta(365, unit='d')).astype('int64')"
   ]
  },
  {
   "cell_type": "code",
   "execution_count": 20,
   "metadata": {},
   "outputs": [],
   "source": [
    "age_mean = fraud.groupby(['Provider', 'BeneID'])['Age']. \\\n",
    "mean().reset_index(name = \"Age\").dropna() \\\n",
    ".groupby('Provider')['Age'].mean().reset_index()"
   ]
  },
  {
   "cell_type": "code",
   "execution_count": 21,
   "metadata": {},
   "outputs": [],
   "source": [
    "Label_Fraud_2 = pd.merge(Label_Fraud_2, age_mean, on='Provider', how='left')"
   ]
  },
  {
   "cell_type": "markdown",
   "metadata": {},
   "source": [
    "### Gender of patients per provider"
   ]
  },
  {
   "cell_type": "code",
   "execution_count": 22,
   "metadata": {},
   "outputs": [],
   "source": [
    "gender = fraud.groupby(['Provider', 'BeneID', 'Gender'])['Gender'].count().reset_index(name = 'GenderCount')\n",
    "gender['GenderCount'] = gender['GenderCount'].apply(lambda x: 1 if x >= 1 else 0)\n",
    "gender = gender.groupby('Provider')['Gender'].value_counts().reset_index(name = 'GenderCount')"
   ]
  },
  {
   "cell_type": "code",
   "execution_count": 23,
   "metadata": {},
   "outputs": [],
   "source": [
    "gender['male'] = 0\n",
    "gender['female'] = 0\n",
    "\n",
    "for index in gender.index:\n",
    "    if gender['Gender'][index] == 1:\n",
    "        gender['male'][index] += gender['GenderCount'][index]\n",
    "    if gender['Gender'][index] == 2:\n",
    "        gender['female'][index] += gender['GenderCount'][index]"
   ]
  },
  {
   "cell_type": "code",
   "execution_count": 24,
   "metadata": {},
   "outputs": [],
   "source": [
    "gender = gender.drop('Gender', axis = 1)\n",
    "gender = gender.drop('GenderCount', axis = 1)"
   ]
  },
  {
   "cell_type": "code",
   "execution_count": 25,
   "metadata": {},
   "outputs": [],
   "source": [
    "genderCount = gender.groupby('Provider').agg({'male' : 'sum', 'female' : 'sum'}).reset_index()"
   ]
  },
  {
   "cell_type": "code",
   "execution_count": 26,
   "metadata": {},
   "outputs": [],
   "source": [
    "Label_Fraud_2 = pd.merge(Label_Fraud_2, genderCount, on = 'Provider', how = 'left')"
   ]
  },
  {
   "cell_type": "code",
   "execution_count": 28,
   "metadata": {},
   "outputs": [
    {
     "data": {
      "text/html": [
       "<div>\n",
       "<style scoped>\n",
       "    .dataframe tbody tr th:only-of-type {\n",
       "        vertical-align: middle;\n",
       "    }\n",
       "\n",
       "    .dataframe tbody tr th {\n",
       "        vertical-align: top;\n",
       "    }\n",
       "\n",
       "    .dataframe thead th {\n",
       "        text-align: right;\n",
       "    }\n",
       "</style>\n",
       "<table border=\"1\" class=\"dataframe\">\n",
       "  <thead>\n",
       "    <tr style=\"text-align: right;\">\n",
       "      <th></th>\n",
       "      <th>Provider</th>\n",
       "      <th>PotentialFraud</th>\n",
       "      <th>DaysAdmitted</th>\n",
       "      <th>DeductibleAmtPaid</th>\n",
       "      <th>InscClaimAmtReimbursed</th>\n",
       "      <th>NumOfDoctors</th>\n",
       "      <th>NumOfPatients</th>\n",
       "      <th>NumOfClms</th>\n",
       "      <th>numCounties</th>\n",
       "      <th>AvgChronic</th>\n",
       "      <th>AvgClaim</th>\n",
       "      <th>Age</th>\n",
       "      <th>male</th>\n",
       "      <th>female</th>\n",
       "    </tr>\n",
       "  </thead>\n",
       "  <tbody>\n",
       "    <tr>\n",
       "      <th>0</th>\n",
       "      <td>PRV51001</td>\n",
       "      <td>No</td>\n",
       "      <td>2.440000</td>\n",
       "      <td>213.600000</td>\n",
       "      <td>4185.600000</td>\n",
       "      <td>14</td>\n",
       "      <td>24</td>\n",
       "      <td>25</td>\n",
       "      <td>7</td>\n",
       "      <td>5.888889</td>\n",
       "      <td>2.777778</td>\n",
       "      <td>77.729167</td>\n",
       "      <td>9</td>\n",
       "      <td>15</td>\n",
       "    </tr>\n",
       "    <tr>\n",
       "      <th>1</th>\n",
       "      <td>PRV51003</td>\n",
       "      <td>Yes</td>\n",
       "      <td>4.674242</td>\n",
       "      <td>502.166667</td>\n",
       "      <td>4588.409091</td>\n",
       "      <td>44</td>\n",
       "      <td>117</td>\n",
       "      <td>132</td>\n",
       "      <td>23</td>\n",
       "      <td>5.000000</td>\n",
       "      <td>12.000000</td>\n",
       "      <td>68.507123</td>\n",
       "      <td>49</td>\n",
       "      <td>68</td>\n",
       "    </tr>\n",
       "    <tr>\n",
       "      <th>2</th>\n",
       "      <td>PRV51004</td>\n",
       "      <td>No</td>\n",
       "      <td>2.429530</td>\n",
       "      <td>2.080537</td>\n",
       "      <td>350.134228</td>\n",
       "      <td>38</td>\n",
       "      <td>138</td>\n",
       "      <td>149</td>\n",
       "      <td>28</td>\n",
       "      <td>4.500000</td>\n",
       "      <td>14.900000</td>\n",
       "      <td>71.977657</td>\n",
       "      <td>45</td>\n",
       "      <td>93</td>\n",
       "    </tr>\n",
       "    <tr>\n",
       "      <th>3</th>\n",
       "      <td>PRV51005</td>\n",
       "      <td>Yes</td>\n",
       "      <td>2.088412</td>\n",
       "      <td>3.175966</td>\n",
       "      <td>241.124464</td>\n",
       "      <td>6</td>\n",
       "      <td>495</td>\n",
       "      <td>1165</td>\n",
       "      <td>26</td>\n",
       "      <td>4.500000</td>\n",
       "      <td>116.500000</td>\n",
       "      <td>69.552102</td>\n",
       "      <td>208</td>\n",
       "      <td>287</td>\n",
       "    </tr>\n",
       "    <tr>\n",
       "      <th>4</th>\n",
       "      <td>PRV51007</td>\n",
       "      <td>No</td>\n",
       "      <td>1.958333</td>\n",
       "      <td>45.333333</td>\n",
       "      <td>468.194444</td>\n",
       "      <td>10</td>\n",
       "      <td>58</td>\n",
       "      <td>72</td>\n",
       "      <td>6</td>\n",
       "      <td>4.000000</td>\n",
       "      <td>8.000000</td>\n",
       "      <td>67.568966</td>\n",
       "      <td>27</td>\n",
       "      <td>31</td>\n",
       "    </tr>\n",
       "  </tbody>\n",
       "</table>\n",
       "</div>"
      ],
      "text/plain": [
       "   Provider PotentialFraud  DaysAdmitted  DeductibleAmtPaid  \\\n",
       "0  PRV51001             No      2.440000         213.600000   \n",
       "1  PRV51003            Yes      4.674242         502.166667   \n",
       "2  PRV51004             No      2.429530           2.080537   \n",
       "3  PRV51005            Yes      2.088412           3.175966   \n",
       "4  PRV51007             No      1.958333          45.333333   \n",
       "\n",
       "   InscClaimAmtReimbursed  NumOfDoctors  NumOfPatients  NumOfClms  \\\n",
       "0             4185.600000            14             24         25   \n",
       "1             4588.409091            44            117        132   \n",
       "2              350.134228            38            138        149   \n",
       "3              241.124464             6            495       1165   \n",
       "4              468.194444            10             58         72   \n",
       "\n",
       "   numCounties  AvgChronic    AvgClaim        Age  male  female  \n",
       "0            7    5.888889    2.777778  77.729167     9      15  \n",
       "1           23    5.000000   12.000000  68.507123    49      68  \n",
       "2           28    4.500000   14.900000  71.977657    45      93  \n",
       "3           26    4.500000  116.500000  69.552102   208     287  \n",
       "4            6    4.000000    8.000000  67.568966    27      31  "
      ]
     },
     "execution_count": 28,
     "metadata": {},
     "output_type": "execute_result"
    }
   ],
   "source": [
    "Label_Fraud_2.head()"
   ]
  },
  {
   "cell_type": "code",
   "execution_count": 29,
   "metadata": {},
   "outputs": [],
   "source": [
    "Label_Fraud_2.to_pickle('dataset.pkl')"
   ]
  },
  {
   "cell_type": "code",
   "execution_count": 30,
   "metadata": {},
   "outputs": [],
   "source": [
    "Label_Fraud_2.to_csv('dataset.csv')"
   ]
  },
  {
   "cell_type": "code",
   "execution_count": null,
   "metadata": {},
   "outputs": [],
   "source": []
  }
 ],
 "metadata": {
  "kernelspec": {
   "display_name": "Python 3",
   "language": "python",
   "name": "python3"
  },
  "language_info": {
   "codemirror_mode": {
    "name": "ipython",
    "version": 3
   },
   "file_extension": ".py",
   "mimetype": "text/x-python",
   "name": "python",
   "nbconvert_exporter": "python",
   "pygments_lexer": "ipython3",
   "version": "3.8.8"
  }
 },
 "nbformat": 4,
 "nbformat_minor": 4
}
