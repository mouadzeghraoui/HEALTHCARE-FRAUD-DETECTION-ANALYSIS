{
 "cells": [
  {
   "cell_type": "markdown",
   "metadata": {},
   "source": [
    "# \n",
    "# Feature Engineering\n",
    "\n",
    "\n",
    "\n",
    "### Table of content\n",
    "- Admitted Date Mean\n",
    "- Deductible Amount Paid Average\n",
    "- Insurance Claim Amount Reimbursed Average\n",
    "- Number of Patients\n",
    "- Number of Providers\n",
    "- Number of country per provider\n",
    "- Number of claims\n",
    "- Average number of chronic conditions per provider\n",
    "- Average Age \n",
    "- Gender of Patients per Providers"
   ]
  },
  {
   "cell_type": "code",
   "execution_count": 1,
   "metadata": {},
   "outputs": [],
   "source": [
    "import pandas as pd\n",
    "from pandas_profiling import ProfileReport\n",
    "import numpy as np\n",
    "import matplotlib.pyplot as plt\n",
    "import plotly.express as px\n",
    "import seaborn as sns\n",
    "plt.rcParams['figure.figsize'] = (12,8)\n",
    "import warnings\n",
    "warnings.filterwarnings(\"ignore\")"
   ]
  },
  {
   "cell_type": "code",
   "execution_count": 2,
   "metadata": {},
   "outputs": [],
   "source": [
    "Beneficiary = pd.read_csv('Data/Train_Beneficiary.csv')\n",
    "Inpatient = pd.read_csv('Data/Train_Inpatient.csv')\n",
    "Outpatient = pd.read_csv('Data/Train_Outpatient.csv')\n",
    "Label = pd.read_csv('Data/Train_Label.csv')"
   ]
  },
  {
   "cell_type": "code",
   "execution_count": 3,
   "metadata": {},
   "outputs": [],
   "source": [
    "Inpatient['Patient_type'] = 'inpatient'\n",
    "Outpatient['Patient_type'] = 'outpatient'"
   ]
  },
  {
   "cell_type": "code",
   "execution_count": 4,
   "metadata": {},
   "outputs": [],
   "source": [
    "Patient = pd.concat([Inpatient, Outpatient], axis=0)"
   ]
  },
  {
   "cell_type": "code",
   "execution_count": 5,
   "metadata": {},
   "outputs": [],
   "source": [
    "fraud = pd.merge(Patient, Beneficiary, on='BeneID', how='left')\n",
    "fraud = pd.merge(fraud, Label, on='Provider', how='left')"
   ]
  },
  {
   "cell_type": "markdown",
   "metadata": {},
   "source": [
    "### Let's create the average of the \"admitted date \""
   ]
  },
  {
   "cell_type": "code",
   "execution_count": 6,
   "metadata": {},
   "outputs": [],
   "source": [
    "# Creating DaysAdmitted Feature by substracting claim start date from claim end date \n",
    "fraud['ClaimStartDt'] = pd.to_datetime(fraud['ClaimStartDt'])\n",
    "fraud['ClaimEndDt'] = pd.to_datetime(fraud['ClaimEndDt'])\n",
    "fraud['DaysAdmitted'] = fraud['ClaimEndDt'] - fraud['ClaimStartDt']"
   ]
  },
  {
   "cell_type": "code",
   "execution_count": 7,
   "metadata": {},
   "outputs": [],
   "source": [
    "fraud['DaysAdmitted'] = fraud['DaysAdmitted'].astype(str)\n",
    "fraud['DaysAdmitted'] = fraud['DaysAdmitted'].str.replace('days', ' ')\n",
    "fraud['DaysAdmitted'] = fraud['DaysAdmitted'].astype(int)\n",
    "fraud['DaysAdmitted'] = fraud['DaysAdmitted'] + 1"
   ]
  },
  {
   "cell_type": "code",
   "execution_count": 8,
   "metadata": {},
   "outputs": [],
   "source": [
    "DaysAdmitted_mean = pd.DataFrame(fraud.groupby('Provider')['DaysAdmitted'].mean()).reset_index()"
   ]
  },
  {
   "cell_type": "code",
   "execution_count": 9,
   "metadata": {},
   "outputs": [],
   "source": [
    "Label_Fraud_1 = Label.copy()\n",
    "Label_Fraud_2 = pd.merge(Label_Fraud_1, DaysAdmitted_mean, on='Provider')"
   ]
  },
  {
   "cell_type": "markdown",
   "metadata": {},
   "source": [
    "### DeductibleAmountPaid Mean"
   ]
  },
  {
   "cell_type": "code",
   "execution_count": 10,
   "metadata": {},
   "outputs": [],
   "source": [
    "DeductibleAmtPaid_mean = pd.DataFrame(fraud.groupby('Provider') \\\n",
    "                              ['DeductibleAmtPaid'].mean())\n",
    "Label_Fraud_2 = pd.merge(Label_Fraud_2, DeductibleAmtPaid_mean, on='Provider')"
   ]
  },
  {
   "cell_type": "markdown",
   "metadata": {},
   "source": [
    "### Insurance Claim Amount Reimbursed Mean"
   ]
  },
  {
   "cell_type": "code",
   "execution_count": 11,
   "metadata": {},
   "outputs": [],
   "source": [
    "InscClaimAmtReimbursed_mean = pd.DataFrame(fraud.groupby('Provider') \\\n",
    "                              ['InscClaimAmtReimbursed'].mean())\n",
    "Label_Fraud_2 = pd.merge(Label_Fraud_2, InscClaimAmtReimbursed_mean, on='Provider')"
   ]
  },
  {
   "cell_type": "markdown",
   "metadata": {},
   "source": [
    "### Add number of patient and Doctors"
   ]
  },
  {
   "cell_type": "code",
   "execution_count": 12,
   "metadata": {},
   "outputs": [],
   "source": [
    "doctors= fraud.groupby(['Provider', 'AttendingPhysician']) \\\n",
    "['AttendingPhysician'].count().reset_index(name='NumOfDoctors'). \\\n",
    "groupby('Provider')['NumOfDoctors'].count().reset_index()\n",
    "\n",
    "Label_Fraud_2 = pd.merge(Label_Fraud_2, doctors, on='Provider')\n"
   ]
  },
  {
   "cell_type": "code",
   "execution_count": 13,
   "metadata": {},
   "outputs": [],
   "source": [
    "patient= fraud.groupby(['Provider','BeneID'])['BeneID'].count(). \\\n",
    "reset_index(name='NumOfPatients').groupby('Provider')['NumOfPatients']. \\\n",
    "count().reset_index()\n",
    "\n",
    "Label_Fraud_2 = pd.merge(Label_Fraud_2, patient, on='Provider')\n"
   ]
  },
  {
   "cell_type": "markdown",
   "metadata": {},
   "source": [
    "### Number of claims"
   ]
  },
  {
   "cell_type": "code",
   "execution_count": 14,
   "metadata": {},
   "outputs": [],
   "source": [
    "claims= fraud.groupby(['Provider', 'ClaimID'])['ClaimID'].count().\\\n",
    "reset_index(name='NumOfClms').groupby('Provider')['NumOfClms'].count().reset_index()\n",
    "\n",
    "Label_Fraud_2 = pd.merge(Label_Fraud_2, claims, on='Provider')"
   ]
  },
  {
   "cell_type": "markdown",
   "metadata": {},
   "source": [
    "### Number of country per provider"
   ]
  },
  {
   "cell_type": "code",
   "execution_count": 15,
   "metadata": {},
   "outputs": [],
   "source": [
    "numCounties = fraud.groupby(['Provider', 'County'])['County'].count().reset_index(name='a'). \\\n",
    "groupby('Provider')['County'].count().reset_index(name='numCounties')\n",
    "Label_Fraud_2 = pd.merge(Label_Fraud_2, numCounties, on='Provider')"
   ]
  },
  {
   "cell_type": "markdown",
   "metadata": {},
   "source": [
    "### Add average number of chronic conditions per provider"
   ]
  },
  {
   "cell_type": "code",
   "execution_count": 16,
   "metadata": {},
   "outputs": [],
   "source": [
    "patientChronic_mean = fraud.filter(regex='Chronic').replace(to_replace=2, value=0).sum(axis=1).\\\n",
    "reset_index(name='NumChronicCond')\n",
    "chronic = pd.concat([patientChronic_mean, fraud[['Provider', 'ClaimID']]], axis=1)"
   ]
  },
  {
   "cell_type": "code",
   "execution_count": 17,
   "metadata": {},
   "outputs": [],
   "source": [
    "patientChronic_mean = chronic.groupby(['Provider', 'NumChronicCond'])['ClaimID'].count().reset_index(name='NumClaims').\\\n",
    "groupby('Provider').agg({'NumChronicCond':'mean', 'NumClaims':'mean'}).reset_index().\\\n",
    "rename(columns={'NumChronicCond':'AvgChronic', 'NumClaims':'AvgClaim'})\n",
    "\n",
    "\n",
    "Label_Fraud_2 = pd.merge(Label_Fraud_2, patientChronic_mean, on='Provider')"
   ]
  },
  {
   "cell_type": "markdown",
   "metadata": {},
   "source": [
    "### average Age "
   ]
  },
  {
   "cell_type": "code",
   "execution_count": 18,
   "metadata": {},
   "outputs": [],
   "source": [
    "fraud['ClaimStartDt2'] =  pd.to_datetime(fraud['ClaimStartDt'], format='%Y/%m/%d')\n",
    "fraud['DOB'] =  pd.to_datetime(fraud['DOB'], format='%Y/%m/%d')\n",
    "fraud['Age'] = fraud['ClaimStartDt'] - fraud['DOB']"
   ]
  },
  {
   "cell_type": "code",
   "execution_count": 19,
   "metadata": {},
   "outputs": [],
   "source": [
    "fraud['Age'] = (fraud['Age']/pd.Timedelta(365, unit='d')).astype('int64')"
   ]
  },
  {
   "cell_type": "code",
   "execution_count": 20,
   "metadata": {},
   "outputs": [],
   "source": [
    "age_mean = fraud.groupby(['Provider', 'BeneID'])['Age']. \\\n",
    "mean().reset_index(name = \"Age\").dropna() \\\n",
    ".groupby('Provider')['Age'].mean().reset_index()"
   ]
  },
  {
   "cell_type": "code",
   "execution_count": 21,
   "metadata": {},
   "outputs": [],
   "source": [
    "Label_Fraud_2 = pd.merge(Label_Fraud_2, age_mean, on='Provider', how='left')"
   ]
  },
  {
   "cell_type": "markdown",
   "metadata": {},
   "source": [
    "### Gender of patients per provider"
   ]
  },
  {
   "cell_type": "code",
   "execution_count": 22,
   "metadata": {},
   "outputs": [],
   "source": [
    "gender = fraud.groupby(['Provider', 'BeneID', 'Gender'])['Gender'].count().reset_index(name = 'GenderCount')\n",
    "gender['GenderCount'] = gender['GenderCount'].apply(lambda x: 1 if x >= 1 else 0)\n",
    "gender = gender.groupby('Provider')['Gender'].value_counts().reset_index(name = 'GenderCount')"
   ]
  },
  {
   "cell_type": "code",
   "execution_count": 23,
   "metadata": {},
   "outputs": [],
   "source": [
    "gender['male'] = 0\n",
    "gender['female'] = 0\n",
    "\n",
    "for index in gender.index:\n",
    "    if gender['Gender'][index] == 1:\n",
    "        gender['male'][index] += gender['GenderCount'][index]\n",
    "    if gender['Gender'][index] == 2:\n",
    "        gender['female'][index] += gender['GenderCount'][index]"
   ]
  },
  {
   "cell_type": "code",
   "execution_count": 24,
   "metadata": {},
   "outputs": [],
   "source": [
    "gender = gender.drop('Gender', axis = 1)\n",
    "gender = gender.drop('GenderCount', axis = 1)"
   ]
  },
  {
   "cell_type": "code",
   "execution_count": 25,
   "metadata": {},
   "outputs": [],
   "source": [
    "genderCount = gender.groupby('Provider').agg({'male' : 'sum', 'female' : 'sum'}).reset_index()"
   ]
  },
  {
   "cell_type": "code",
   "execution_count": 26,
   "metadata": {},
   "outputs": [],
   "source": [
    "Label_Fraud_2 = pd.merge(Label_Fraud_2, genderCount, on = 'Provider', how = 'left')"
   ]
  },
  {
   "cell_type": "raw",
   "metadata": {},
   "source": [
    "Label_Fraud_2.to_pickle('dataset.pkl')"
   ]
  }
 ],
 "metadata": {
  "kernelspec": {
   "display_name": "Python 3",
   "language": "python",
   "name": "python3"
  },
  "language_info": {
   "codemirror_mode": {
    "name": "ipython",
    "version": 3
   },
   "file_extension": ".py",
   "mimetype": "text/x-python",
   "name": "python",
   "nbconvert_exporter": "python",
   "pygments_lexer": "ipython3",
   "version": "3.8.5"
  }
 },
 "nbformat": 4,
 "nbformat_minor": 4
}
